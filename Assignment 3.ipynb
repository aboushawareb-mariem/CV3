{
 "cells": [
  {
   "cell_type": "code",
   "execution_count": 1,
   "metadata": {},
   "outputs": [],
   "source": [
    "import numpy as np\n",
    "dx = [0,0,0,0,1,1,1,1,2,2,2,2,3,3,3,3, 0, 0, 0, 1, 1, 1, 2, 2, 2, 3, 3, 3,-1,-1,-1,-1,-2,-2,-2,-2,-3,-3,-3,-3,-1,-2,-3,-1,-2,-3,-1,-2,-3]\n",
    "dy = [0,1,2,3,0,1,2,3,0,1,2,3,0,1,2,3,-1,-2,-3,-1,-2,-3,-1,-2,-3,-1,-2,-3, 0, 1, 2, 3, 0, 1, 2, 3, 0, 1, 2, 3,-1,-1,-1,-2,-2,-2,-3,-3,-3]\n",
    "\n",
    " \n"
   ]
  },
  {
   "cell_type": "code",
   "execution_count": null,
   "metadata": {
    "collapsed": true
   },
   "outputs": [],
   "source": [
    "threshold = 0 #this should be the value of the border line pixel between the two images\n",
    "\n",
    "def I2_valid(x,y, img): #checking validity of pixel with respect to image2 (right image)\n",
    "    if(x >= threshold and x < img.shape[0] and y >= 0 and y < img.shape[1]):\n",
    "        return True\n",
    "    else:\n",
    "        return False\n",
    "\n",
    "def I1_valid(x,y, img): #checking validity of pixel with respect to image1 (left image)\n",
    "    if(x >= 0 and x < threshold and y >= 0 and y < img.shape[1]):\n",
    "        return True\n",
    "    else:\n",
    "        return False"
   ]
  },
  {
   "cell_type": "code",
   "execution_count": null,
   "metadata": {
    "collapsed": true
   },
   "outputs": [],
   "source": [
    "def ssd_single(img, x,y): #returns an array containing values of SSD for one pixel without disparity range\n",
    "    kernel_deltas = []\n",
    "    for i in range(len(dx)):\n",
    "        I1 = 0\n",
    "        I2 = 0\n",
    "        \n",
    "        x1 = x+dx[i]\n",
    "        y1 = y+dy[i]\n",
    "        \n",
    "        x2 = threshold+x+dx[i]\n",
    "        y2 = threshold+y+dy[i]\n",
    "        \n",
    "        if(I1_valid(x1, y1, img)):\n",
    "            I1 = img[x1][y1]\n",
    "        if(I2_valid(x2, y2, img)):\n",
    "            I2 = img[x2][y2]\n",
    "        \n",
    "        delta = abs(I1-I2)\n",
    "        kernel_deltas.add(delta)\n",
    "    \n",
    "    res_ssd = 0\n",
    "    for i in kernel_deltas:\n",
    "        res_ssd+=i\n",
    "    return res_ssd\n",
    "        \n",
    "    \n",
    "\n",
    "\n",
    "def ssd_range(img, x, y, min_x, max_x, min_y, max_y ): #returns a list of SSDs for pixel at (x,y) in I1 within a disparity range\n",
    "    SSDs = []\n",
    "    for i in range(min_x, max_x +1):\n",
    "        for j in range(min_y, max_y +1):\n",
    "            if(I1_valid(x+i, y+j)):\n",
    "                SSDs.append(ssd_single(img, x+i, y+j))\n",
    "    return SSDs\n",
    "\n",
    "def get_all_SSDs(img,min_x, max_x, min_y, max_y): #loops pixel by pixel gets SSD with disparity range for each pixel and returns best SSD value for each pixel in image\n",
    "    SSD_img = []\n",
    "    for i in range(threshold):\n",
    "        row = []\n",
    "        for j in range(img.shape[1]):\n",
    "            pixel_SSDs = ssd_range(img,i,j,min_x, max_x, min_y, max_y)\n",
    "            best_SSD = min(pixel_SSDs)\n",
    "            row.append(best_SSD)\n",
    "    return SSD_img\n",
    "                \n",
    "            \n",
    "    "
   ]
  }
 ],
 "metadata": {
  "kernelspec": {
   "display_name": "Python 3",
   "language": "python",
   "name": "python3"
  },
  "language_info": {
   "codemirror_mode": {
    "name": "ipython",
    "version": 3
   },
   "file_extension": ".py",
   "mimetype": "text/x-python",
   "name": "python",
   "nbconvert_exporter": "python",
   "pygments_lexer": "ipython3",
   "version": "3.6.4"
  }
 },
 "nbformat": 4,
 "nbformat_minor": 2
}
